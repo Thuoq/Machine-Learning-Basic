{
  "nbformat": 4,
  "nbformat_minor": 0,
  "metadata": {
    "colab": {
      "name": "Endgame ML K1N2.ipynb",
      "provenance": [],
      "collapsed_sections": [],
      "include_colab_link": true
    },
    "kernelspec": {
      "name": "python3",
      "display_name": "Python 3"
    },
    "language_info": {
      "name": "python"
    }
  },
  "cells": [
    {
      "cell_type": "markdown",
      "metadata": {
        "id": "view-in-github",
        "colab_type": "text"
      },
      "source": [
        "<a href=\"https://colab.research.google.com/github/Thuoq/Machine-Learning-Basic/blob/main/Endgame_ML_K1N2.ipynb\" target=\"_parent\"><img src=\"https://colab.research.google.com/assets/colab-badge.svg\" alt=\"Open In Colab\"/></a>"
      ]
    },
    {
      "cell_type": "markdown",
      "metadata": {
        "id": "KKCnQ0D9e7UQ"
      },
      "source": [
        "# Machine Learning Project Final K1_N2 Teacher: Tu Anh\n",
        " \n",
        "* Classification mnist \n",
        "\n",
        "**Created**: Lê Văn Thương, Lê Văn Kiên, Nguyễn Trung Phong, Nguyễn Thị Thu Hường."
      ]
    },
    {
      "cell_type": "code",
      "metadata": {
        "id": "xcpjks78R5lj"
      },
      "source": [
        "#import libaries\n",
        "import tensorflow as tf\n",
        "import numpy as np\n",
        "import pandas as pd\n",
        "import matplotlib.pyplot as plt \n",
        "import tensorflow_datasets as tfds"
      ],
      "execution_count": 1,
      "outputs": []
    },
    {
      "cell_type": "markdown",
      "metadata": {
        "id": "8DIkJT2QawMy"
      },
      "source": [
        "## Fetching dataset from Sklearn"
      ]
    },
    {
      "cell_type": "code",
      "metadata": {
        "colab": {
          "base_uri": "https://localhost:8080/"
        },
        "id": "2Tjgv01DW2-h",
        "outputId": "f8f76266-4ab8-4365-ec9e-cac96755f823"
      },
      "source": [
        "# Fetching dataset\n",
        "from sklearn.datasets import fetch_openml\n",
        "mnist = fetch_openml('mnist_784',version=1)\n",
        "mnist.keys()"
      ],
      "execution_count": 2,
      "outputs": [
        {
          "output_type": "execute_result",
          "data": {
            "text/plain": [
              "dict_keys(['data', 'target', 'frame', 'feature_names', 'target_names', 'DESCR', 'details', 'categories', 'url'])"
            ]
          },
          "metadata": {},
          "execution_count": 2
        }
      ]
    },
    {
      "cell_type": "code",
      "metadata": {
        "colab": {
          "base_uri": "https://localhost:8080/"
        },
        "id": "B5rdcpKGXpU2",
        "outputId": "dc68a50e-8cda-41fa-b03b-1dbc50dd126c"
      },
      "source": [
        "X,y = mnist['data'],mnist['target'] # X for features, y for labels\n",
        "X.shape,y.shape"
      ],
      "execution_count": 3,
      "outputs": [
        {
          "output_type": "execute_result",
          "data": {
            "text/plain": [
              "((70000, 784), (70000,))"
            ]
          },
          "metadata": {},
          "execution_count": 3
        }
      ]
    },
    {
      "cell_type": "code",
      "metadata": {
        "colab": {
          "base_uri": "https://localhost:8080/"
        },
        "id": "RhGeHQqtaBUV",
        "outputId": "02744d86-ed80-47b7-9cd6-41e07359db19"
      },
      "source": [
        "X[0].shape"
      ],
      "execution_count": 4,
      "outputs": [
        {
          "output_type": "execute_result",
          "data": {
            "text/plain": [
              "(784,)"
            ]
          },
          "metadata": {},
          "execution_count": 4
        }
      ]
    },
    {
      "cell_type": "markdown",
      "metadata": {
        "id": "gof74SiwXyyG"
      },
      "source": [
        "**NOTE**: Một chút khác biệt fetching data giữa **Tensorflow** và **Sklearn**:\n",
        "- shape đưa ra của **X** ở Sklearn là 784 features có nghĩa trải ngang ra còn ở tensorflow là (28,28("
      ]
    },
    {
      "cell_type": "markdown",
      "metadata": {
        "id": "G6DWUPHCa6_k"
      },
      "source": [
        "## Viz Dataset "
      ]
    },
    {
      "cell_type": "markdown",
      "metadata": {
        "id": "GI_Xm2deZX4G"
      },
      "source": [
        "Xây dựng 1 hàm có tên là `show_a_image()` để chỉ ra cái ảnh đầu vào của dữ liệu: "
      ]
    },
    {
      "cell_type": "code",
      "metadata": {
        "id": "lyg1ySWwZqOD"
      },
      "source": [
        "def show_a_image(some_digit):\n",
        "  \"\"\"\n",
        "  @param some_digit: (np.array) have shape (784)\n",
        "  \"\"\"\n",
        "  some_digit_image = some_digit.reshape((28,28))\n",
        "  plt.imshow(some_digit_image,cmap=\"binary\")\n",
        "  plt.axis(\"off\")\n",
        "  plt.show()\n"
      ],
      "execution_count": 5,
      "outputs": []
    },
    {
      "cell_type": "code",
      "metadata": {
        "colab": {
          "base_uri": "https://localhost:8080/",
          "height": 268
        },
        "id": "8f_PXnIybHbl",
        "outputId": "8bed5f32-3eb5-41c3-a741-5fa799ba3958"
      },
      "source": [
        "show_a_image(X[0]);\n",
        "y[0]"
      ],
      "execution_count": 6,
      "outputs": [
        {
          "output_type": "display_data",
          "data": {
            "image/png": "[encoded data removed]",
            "text/plain": [
              "<Figure size 432x288 with 1 Axes>"
            ]
          },
          "metadata": {
            "needs_background": "light"
          }
        },
        {
          "output_type": "execute_result",
          "data": {
            "application/vnd.google.colaboratory.intrinsic+json": {
              "type": "string"
            },
            "text/plain": [
              "'5'"
            ]
          },
          "metadata": {},
          "execution_count": 6
        }
      ]
    },
    {
      "cell_type": "markdown",
      "metadata": {
        "id": "Mybs5DAObKMf"
      },
      "source": [
        "Ở trên chúng ta đã thấy tại bức ảnh vị trí 0 và label ở vị trí 0 là 5. Nhưng có 1 điều ở đây rằng label đang là kiểu **string** hầu như các thuật toán của ML đều xử lý với số nên chúng ta sẽ convert label sang number "
      ]
    },
    {
      "cell_type": "code",
      "metadata": {
        "id": "Em289aAIbrNY"
      },
      "source": [
        "y  = y.astype(np.uint8)"
      ],
      "execution_count": 7,
      "outputs": []
    },
    {
      "cell_type": "markdown",
      "metadata": {
        "id": "zjHQ3TJHbvaX"
      },
      "source": [
        "Ở trên chúng ta chỉ mới Viz cho 1 hình ảnh đoạn code dưới đây sẽ làm show  **random 4 images**."
      ]
    },
    {
      "cell_type": "code",
      "metadata": {
        "id": "PE2O8zVTdL94"
      },
      "source": [
        "import random\n",
        "def show_4_images_rand(X,y):\n",
        "  \"\"\"\n",
        "  @param X: for features\n",
        "  @param y: label\n",
        "  Show random 4 images\n",
        "  \"\"\"\n",
        "  plt.figure(figsize=(7,7))\n",
        "  for i in range(4):\n",
        "    ax = plt.subplot(2,2,i+1)\n",
        "    rand_idx = random.choice(range(len(X)))\n",
        "    plt.imshow(X[rand_idx].reshape((28,28)),cmap=\"binary\")\n",
        "    plt.title(y[rand_idx])\n",
        "    plt.axis(False)\n",
        "    "
      ],
      "execution_count": 10,
      "outputs": []
    },
    {
      "cell_type": "code",
      "metadata": {
        "colab": {
          "base_uri": "https://localhost:8080/",
          "height": 427
        },
        "id": "2gGCmJ3RejEZ",
        "outputId": "10581e8a-cd81-42a7-b899-786b76e96d58"
      },
      "source": [
        "show_4_images_rand(X,y)"
      ],
      "execution_count": 11,
      "outputs": [
        {
          "output_type": "display_data",
          "data": {
            "image/png": "[encoded data removed]",
            "text/plain": [
              "<Figure size 504x504 with 4 Axes>"
            ]
          },
          "metadata": {
            "needs_background": "light"
          }
        }
      ]
    },
    {
      "cell_type": "markdown",
      "metadata": {
        "id": "9eiVlvVNel9t"
      },
      "source": [
        "## Data Processing \n"
      ]
    },
    {
      "cell_type": "markdown",
      "metadata": {
        "id": "nTuwb1Pamv7d"
      },
      "source": [
        "### Features Scaling \n",
        "Trong phần này chúng ta sẽ xử lý dữ liệu và chúng ta sẽ sử dụng 1 trong  các kỹ thuật trong Features Scaling là : \n",
        "1. Max scaling ( được biết đến như là normalization)\n",
        "2. Standardization\n",
        "\n",
        "**Max Scaling** nó rất đơn giản giá trị được dịch chuyển và thay đổi tỷ lệ để chúng kết thúc từ 0 tới 1 công thức là: trừ giá trị thấp nhất và chia giá trị cao nhất. Trong Sckit-learn là **MinMaxScaler**\n",
        "\n",
        "**Standardization**: là khác biệt đầu tiên nó trừ đi giá trị trung bình và chia nó cho dộ lệch chuẩn \n",
        "\n",
        "\n",
        "1 điểm chút khác biệt giữa 2 thằng kể trên: \n",
        "- Thằng **standardization** không bị ràng buộc vào phạm vi cụ thể nào như thằng **min-max**\n",
        "- **standardization** nó ít bị ảnh hưởng bởi giá trị ngoại biên\n",
        "\n",
        "Dưới đây chúng tôi sẽ sử dụng thằng **StandardScaler** và **Minmax Scaling** để preprocessing data."
      ]
    },
    {
      "cell_type": "code",
      "metadata": {
        "id": "fMC5SMT9j1g0"
      },
      "source": [
        "from sklearn.preprocessing import StandardScaler,MinMaxScaler\n",
        "scaler = StandardScaler()\n",
        "_min_max = MinMaxScaler()\n",
        "X_standardization = scaler.fit_transform(X.astype(np.float64))\n",
        "X_normalization = _min_max.fit_transform(X.astype(np.float64))\n"
      ],
      "execution_count": 8,
      "outputs": []
    },
    {
      "cell_type": "markdown",
      "metadata": {
        "id": "yyIWEXiQl8ak"
      },
      "source": [
        "### Split Data \n",
        "\n",
        "Trong phần này mình sẽ chia dữ liệu mà mình đã features scaling ở trên  của chúng ta thành 2 phần với **80%** và **20%**:\n",
        "\n",
        "1. Train Data - (80%)\n",
        "2. Test Data - (20%)\n",
        "\n",
        "Trong **Scikit-learn** có 1 hàm là `train_test_split()` để xử lý điều trên."
      ]
    },
    {
      "cell_type": "code",
      "metadata": {
        "id": "X5bAciNum7cT"
      },
      "source": [
        "from sklearn.model_selection import train_test_split\n",
        "# X_stand_train là của X_standardization\n",
        "X_stand_train,X_stand_test,y_train,y_test = train_test_split(X_standardization\n",
        "                                                             ,y\n",
        "                                                             ,random_state=42\n",
        "                                                             ,test_size=0.2)\n",
        "# X_norm_train là của X_normalization\n",
        "X_norm_train,X_norm_test,y_train,y_test = train_test_split(X_normalization\n",
        "                                                             ,y\n",
        "                                                             ,random_state=42\n",
        "                                                             ,test_size=0.2)\n"
      ],
      "execution_count": 14,
      "outputs": []
    },
    {
      "cell_type": "markdown",
      "metadata": {
        "id": "_kdTk1Qxk-mW"
      },
      "source": [
        "## Sử dụng Model để Training data.\n",
        "Trong phần này bọn mình sẽ sử dụng 2 thuật toán **Support Vector Machines** và **Random Forests**. \n",
        "\n",
        "Trước khi đi vào phần code thì mình sẽ giải thích ý nghĩa của 2 thuật toán trên và code nó ở ngay sau khi giải thích xong. "
      ]
    },
    {
      "cell_type": "markdown",
      "metadata": {
        "id": "zk94f2gZlibK"
      },
      "source": [
        "### Support Vector Machines (SVM) \n",
        "\n"
      ]
    },
    {
      "cell_type": "markdown",
      "metadata": {
        "id": "Oh8gLF00ttPJ"
      },
      "source": [
        "#### Linear SVM Classification \n",
        "\n",
        "SVM hay còn được gọi là **Maximum Margin Classifier** để giải thích nó sẽ làm gì thì mình sẽ xin đưa ra 1 hình ảnh này để mọi người nhìn thấy. \n"
      ]
    },
    {
      "cell_type": "markdown",
      "metadata": {
        "id": "IEqLjkXxt_tr"
      },
      "source": [
        "![Image SVM ](https://machinelearningcoban.com/assets/19_svm/svm2.png \"Text to show on mouseover\")"
      ]
    },
    {
      "cell_type": "markdown",
      "metadata": {
        "id": "7yi3Bar7rH7z"
      },
      "source": [
        "![Image SVM ](https://machinelearningcoban.com/assets/19_svm/svm5.png \"Text to show on mouseover\")"
      ]
    },
    {
      "cell_type": "markdown",
      "metadata": {
        "id": "Tk3oF_uytkSA"
      },
      "source": [
        "Chúng ta có 1 đường thẳng để tách biệt giữa 2 lớp **xanh** và **đỏ** và bài toán SVM là làm sao để tìm được cái *margin* lớn nhất có thể để làm tách biệt 2 lớp này ra. "
      ]
    },
    {
      "cell_type": "markdown",
      "metadata": {
        "id": "hXUJ14JLuVs0"
      },
      "source": [
        "#### Nonlinear SVM Classification \n",
        "\n",
        "Mặc dù Linear SVM classificaiton sử dụng rất hiệu quả và làm việc rất tốt với trong nhiều trường hợp dataset. Nhưng sẽ có những trường hợp dữ liệu sẽ không là **linearly**. Và với nhũng trường hợp dữ liệu này chúng ta sẽ sử dụng các  hướng tiếp cận sau : \n",
        "1. Polynomial Features\n",
        "2. Polynomial Kernel\n",
        "3. Similarity Features\n",
        "4. Gaussian RBF Kernel\n"
      ]
    },
    {
      "cell_type": "markdown",
      "metadata": {
        "id": "hyBzoJq7xBPx"
      },
      "source": [
        "##### Polynomial Featues \n"
      ]
    },
    {
      "cell_type": "markdown",
      "metadata": {
        "id": "7PcZDSEOF_f2"
      },
      "source": [
        "**Polynomial Features** được hiểu như là mình sẽ ví dụ tập dữ liệu của mình đang là bậc 1, mình sẽ cho nó lên bậc 2,3 và mình sẽ sử dụng được linear cho trường hợp đó.  như hình ở dưới sẽ mô tả rõ ràng hơn.\n"
      ]
    },
    {
      "cell_type": "markdown",
      "metadata": {
        "id": "DUzshq3wGvo_"
      },
      "source": [
        "![Image SVM ](https://img2018.cnblogs.com/blog/1012590/201903/1012590-20190331181001911-2004060929.png \"Text to show on mouseover\")"
      ]
    },
    {
      "cell_type": "code",
      "metadata": {
        "id": "FpIJuVj4yNkt"
      },
      "source": [
        "from sklearn.preprocessing import PolynomialFeatures\n",
        "from sklearn.pipeline import Pipeline\n",
        "from sklearn.svm import LinearSVC\n",
        "def polynomial_features_svm_clf(degree=2,C=1.0,loss=\"hinge\"):\n",
        "  return Pipeline([\n",
        "          (\"poly_features\",PolynomialFeatures(degree=degree)),\n",
        "          (\"scaler\",StandardScaler()),\n",
        "          (\"svm_clf\",LinearSVC(C=C,loss=loss))\n",
        "  ])\n",
        "model_polynomial_features_svm_clf = polynomial_features_svm_clf().fit(X,y)\n"
      ],
      "execution_count": 17,
      "outputs": []
    },
    {
      "cell_type": "markdown",
      "metadata": {
        "id": "ZBar-HDgx-xB"
      },
      "source": [
        "##### Polynomial Kernel\n"
      ]
    },
    {
      "cell_type": "markdown",
      "metadata": {
        "id": "MWuvqtoNyFr5"
      },
      "source": [
        "##### Similarity Featues "
      ]
    },
    {
      "cell_type": "markdown",
      "metadata": {
        "id": "uftG3muOyIOe"
      },
      "source": [
        "##### Gausian RBF Kernel "
      ]
    },
    {
      "cell_type": "code",
      "metadata": {
        "id": "Rrd2BYg7yLTv"
      },
      "source": [
        ""
      ],
      "execution_count": null,
      "outputs": []
    }
  ]
}