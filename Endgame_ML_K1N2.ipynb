{
  "nbformat": 4,
  "nbformat_minor": 0,
  "metadata": {
    "colab": {
      "name": "Endgame ML K1N2.ipynb",
      "provenance": [],
      "collapsed_sections": [],
      "include_colab_link": true
    },
    "kernelspec": {
      "name": "python3",
      "display_name": "Python 3"
    },
    "language_info": {
      "name": "python"
    }
  },
  "cells": [
    {
      "cell_type": "markdown",
      "metadata": {
        "id": "view-in-github",
        "colab_type": "text"
      },
      "source": [
        "<a href=\"https://colab.research.google.com/github/Thuoq/Machine-Learning-Basic/blob/main/Endgame_ML_K1N2.ipynb\" target=\"_parent\"><img src=\"https://colab.research.google.com/assets/colab-badge.svg\" alt=\"Open In Colab\"/></a>"
      ]
    },
    {
      "cell_type": "markdown",
      "metadata": {
        "id": "KKCnQ0D9e7UQ"
      },
      "source": [
        "# Machine Learning Project Final K1_N2 Teacher: Tu Anh\n",
        " \n",
        "* Classification mnist \n",
        "\n",
        "**Created**: Lê Văn Thương, Lê Văn Kiên, Nguyễn Trung Phong, Nguyễn Thị Thu Hường."
      ]
    },
    {
      "cell_type": "code",
      "metadata": {
        "id": "xcpjks78R5lj"
      },
      "source": [
        "#import libaries\n",
        "import tensorflow as tf\n",
        "import numpy as np\n",
        "import pandas as pd\n",
        "import matplotlib.pyplot as plt \n",
        "import tensorflow_datasets as tfds"
      ],
      "execution_count": 2,
      "outputs": []
    },
    {
      "cell_type": "markdown",
      "metadata": {
        "id": "8DIkJT2QawMy"
      },
      "source": [
        "## Fetching dataset from Sklearn"
      ]
    },
    {
      "cell_type": "code",
      "metadata": {
        "colab": {
          "base_uri": "https://localhost:8080/"
        },
        "id": "2Tjgv01DW2-h",
        "outputId": "7d3c248b-8de6-4e8f-ac22-68739d3da6bc"
      },
      "source": [
        "# Fetching dataset\n",
        "from sklearn.datasets import fetch_openml\n",
        "mnist = fetch_openml('mnist_784',version=1)\n",
        "mnist.keys()"
      ],
      "execution_count": 3,
      "outputs": [
        {
          "output_type": "execute_result",
          "data": {
            "text/plain": [
              "dict_keys(['data', 'target', 'frame', 'feature_names', 'target_names', 'DESCR', 'details', 'categories', 'url'])"
            ]
          },
          "metadata": {},
          "execution_count": 3
        }
      ]
    },
    {
      "cell_type": "code",
      "metadata": {
        "colab": {
          "base_uri": "https://localhost:8080/"
        },
        "id": "B5rdcpKGXpU2",
        "outputId": "c6be42d3-4d5e-4e1b-8a9b-72d102bc56b0"
      },
      "source": [
        "X,y = mnist['data'],mnist['target'] # X for features, y for labels\n",
        "X.shape,y.shape"
      ],
      "execution_count": 4,
      "outputs": [
        {
          "output_type": "execute_result",
          "data": {
            "text/plain": [
              "((70000, 784), (70000,))"
            ]
          },
          "metadata": {},
          "execution_count": 4
        }
      ]
    },
    {
      "cell_type": "code",
      "metadata": {
        "colab": {
          "base_uri": "https://localhost:8080/"
        },
        "id": "RhGeHQqtaBUV",
        "outputId": "36dc9780-6c21-462a-dabf-53f85196237c"
      },
      "source": [
        "X[0].shape"
      ],
      "execution_count": 5,
      "outputs": [
        {
          "output_type": "execute_result",
          "data": {
            "text/plain": [
              "(784,)"
            ]
          },
          "metadata": {},
          "execution_count": 5
        }
      ]
    },
    {
      "cell_type": "markdown",
      "metadata": {
        "id": "gof74SiwXyyG"
      },
      "source": [
        "**NOTE**: Một chút khác biệt fetching data giữa **Tensorflow** và **Sklearn**:\n",
        "- shape đưa ra của **X** ở Sklearn là 784 features có nghĩa trải ngang ra còn ở tensorflow là (28,28("
      ]
    },
    {
      "cell_type": "markdown",
      "metadata": {
        "id": "G6DWUPHCa6_k"
      },
      "source": [
        "## Viz Dataset "
      ]
    },
    {
      "cell_type": "markdown",
      "metadata": {
        "id": "GI_Xm2deZX4G"
      },
      "source": [
        "Xây dựng 1 hàm có tên là `show_a_image()` để chỉ ra cái ảnh đầu vào của dữ liệu: "
      ]
    },
    {
      "cell_type": "code",
      "metadata": {
        "id": "lyg1ySWwZqOD"
      },
      "source": [
        "def show_a_image(some_digit):\n",
        "  \"\"\"\n",
        "  @param some_digit: (np.array) have shape (784)\n",
        "  \"\"\"\n",
        "  some_digit_image = some_digit.reshape((28,28))\n",
        "  plt.imshow(some_digit_image,cmap=\"binary\")\n",
        "  plt.axis(\"off\")\n",
        "  plt.show()\n"
      ],
      "execution_count": null,
      "outputs": []
    },
    {
      "cell_type": "code",
      "metadata": {
        "colab": {
          "base_uri": "https://localhost:8080/",
          "height": 268
        },
        "id": "8f_PXnIybHbl",
        "outputId": "4ad99ed1-f89b-4554-92ba-4cb115cc52bf"
      },
      "source": [
        "show_a_image(X[0]);\n",
        "y[0]"
      ],
      "execution_count": null,
      "outputs": [
        {
          "output_type": "display_data",
          "data": {
            "image/png": "[encoded data removed]",
            "text/plain": [
              "<Figure size 432x288 with 1 Axes>"
            ]
          },
          "metadata": {
            "needs_background": "light"
          }
        },
        {
          "output_type": "execute_result",
          "data": {
            "application/vnd.google.colaboratory.intrinsic+json": {
              "type": "string"
            },
            "text/plain": [
              "'5'"
            ]
          },
          "metadata": {},
          "execution_count": 7
        }
      ]
    },
    {
      "cell_type": "markdown",
      "metadata": {
        "id": "Mybs5DAObKMf"
      },
      "source": [
        "Ở trên chúng ta đã thấy tại bức ảnh vị trí 0 và label ở vị trí 0 là 5. Nhưng có 1 điều ở đây rằng label đang là kiểu **string** hầu như các thuật toán của ML đều xử lý với số nên chúng ta sẽ convert label sang number "
      ]
    },
    {
      "cell_type": "code",
      "metadata": {
        "id": "Em289aAIbrNY"
      },
      "source": [
        "y  = y.astype(np.uint8)"
      ],
      "execution_count": 6,
      "outputs": []
    },
    {
      "cell_type": "markdown",
      "metadata": {
        "id": "zjHQ3TJHbvaX"
      },
      "source": [
        "Ở trên chúng ta chỉ mới Viz cho 1 hình ảnh đoạn code dưới đây sẽ làm show  **random 4 images**."
      ]
    },
    {
      "cell_type": "code",
      "metadata": {
        "id": "PE2O8zVTdL94"
      },
      "source": [
        "import random\n",
        "def show_4_images_rand(X,y):\n",
        "  \"\"\"\n",
        "  @param X: for features\n",
        "  @param y: label\n",
        "  Show random 4 images\n",
        "  \"\"\"\n",
        "  plt.figure(figsize=(7,7))\n",
        "  for i in range(4):\n",
        "    ax = plt.subplot(2,2,i+1)\n",
        "    rand_idx = random.choice(range(len(X)))\n",
        "    plt.imshow(X[rand_idx].reshape((28,28)),cmap=\"binary\")\n",
        "    plt.title(y[rand_idx])\n",
        "    plt.axis(False)\n",
        "    "
      ],
      "execution_count": null,
      "outputs": []
    },
    {
      "cell_type": "code",
      "metadata": {
        "colab": {
          "base_uri": "https://localhost:8080/",
          "height": 427
        },
        "id": "2gGCmJ3RejEZ",
        "outputId": "ab14b8cd-233e-4c45-d339-e5c26bdc617f"
      },
      "source": [
        "show_4_images_rand(X,y)"
      ],
      "execution_count": null,
      "outputs": [
        {
          "output_type": "display_data",
          "data": {
            "image/png": "[encoded data removed]",
            "text/plain": [
              "<Figure size 504x504 with 4 Axes>"
            ]
          },
          "metadata": {
            "needs_background": "light"
          }
        }
      ]
    },
    {
      "cell_type": "markdown",
      "metadata": {
        "id": "9eiVlvVNel9t"
      },
      "source": [
        "## Data Processing \n"
      ]
    },
    {
      "cell_type": "markdown",
      "metadata": {
        "id": "nTuwb1Pamv7d"
      },
      "source": [
        "### Features Scaling \n",
        "Trong phần này chúng ta sẽ xử lý dữ liệu và chúng ta sẽ sử dụng 1 trong  các kỹ thuật trong Features Scaling là : \n",
        "1. Max scaling ( được biết đến như là normalization)\n",
        "2. Standardization\n",
        "\n",
        "**Max Scaling** nó rất đơn giản giá trị được dịch chuyển và thay đổi tỷ lệ để chúng kết thúc từ 0 tới 1 công thức là: trừ giá trị thấp nhất và chia giá trị cao nhất. Trong Sckit-learn là **MinMaxScaler**\n",
        "\n",
        "**Standardization**: là khác biệt đầu tiên nó trừ đi giá trị trung bình và chia nó cho dộ lệch chuẩn \n",
        "\n",
        "\n",
        "1 điểm chút khác biệt giữa 2 thằng kể trên: \n",
        "- Thằng **standardization** không bị ràng buộc vào phạm vi cụ thể nào như thằng **min-max**\n",
        "- **standardization** nó ít bị ảnh hưởng bởi giá trị ngoại biên\n",
        "\n",
        "Dưới đây chúng tôi sẽ sử dụng thằng **StandardScaler** và **Minmax Scaling** để preprocessing data."
      ]
    },
    {
      "cell_type": "code",
      "metadata": {
        "id": "fMC5SMT9j1g0"
      },
      "source": [
        "from sklearn.preprocessing import StandardScaler,MinMaxScaler\n",
        "scaler = StandardScaler() # standardization \n",
        "_min_max = MinMaxScaler() # normalization\n",
        "X_standardization = scaler.fit_transform(X.astype(np.float64))\n",
        "X_normalization = _min_max.fit_transform(X.astype(np.float64))\n"
      ],
      "execution_count": 7,
      "outputs": []
    },
    {
      "cell_type": "markdown",
      "metadata": {
        "id": "yyIWEXiQl8ak"
      },
      "source": [
        "### Split Data \n",
        "\n",
        "Trong phần này mình sẽ chia dữ liệu mà mình đã features scaling ở trên  của chúng ta thành 2 phần với **80%** và **20%**:\n",
        "\n",
        "1. Train Data - (80%)\n",
        "2. Test Data - (20%)\n",
        "\n",
        "Trong **Scikit-learn** có 1 hàm là `train_test_split()` để xử lý điều trên."
      ]
    },
    {
      "cell_type": "code",
      "metadata": {
        "id": "X5bAciNum7cT"
      },
      "source": [
        "from sklearn.model_selection import train_test_split\n",
        "# X_stand_train là của X_standardization\n",
        "X_stand_train,X_stand_test,y_train,y_test = train_test_split(X_standardization\n",
        "                                                             ,y\n",
        "                                                             ,random_state=42\n",
        "                                                             ,test_size=0.2)\n",
        "# X_norm_train là của X_normalization\n",
        "X_norm_train,X_norm_test,y_train,y_test = train_test_split(X_normalization\n",
        "                                                             ,y\n",
        "                                                             ,random_state=42\n",
        "                                                             ,test_size=0.2)\n"
      ],
      "execution_count": 8,
      "outputs": []
    },
    {
      "cell_type": "markdown",
      "metadata": {
        "id": "_kdTk1Qxk-mW"
      },
      "source": [
        "## Sử dụng Model để Training data.\n",
        "Trong phần này bọn mình sẽ sử dụng 2 thuật toán **Support Vector Machines** và **Random Forests**. \n",
        "\n",
        "Trước khi đi vào phần code thì mình sẽ giải thích ý nghĩa của 2 thuật toán trên và code nó ở ngay sau khi giải thích xong. "
      ]
    },
    {
      "cell_type": "markdown",
      "metadata": {
        "id": "zk94f2gZlibK"
      },
      "source": [
        "### Support Vector Machines (SVM) \n",
        "\n"
      ]
    },
    {
      "cell_type": "markdown",
      "metadata": {
        "id": "Oh8gLF00ttPJ"
      },
      "source": [
        "#### Linear SVM Classification \n",
        "\n",
        "SVM hay còn được gọi là **Maximum Margin Classifier** để giải thích nó sẽ làm gì thì mình sẽ xin đưa ra 1 hình ảnh này để mọi người nhìn thấy. \n"
      ]
    },
    {
      "cell_type": "markdown",
      "metadata": {
        "id": "IEqLjkXxt_tr"
      },
      "source": [
        "![Image SVM ](https://machinelearningcoban.com/assets/19_svm/svm2.png \"Text to show on mouseover\")"
      ]
    },
    {
      "cell_type": "markdown",
      "metadata": {
        "id": "7yi3Bar7rH7z"
      },
      "source": [
        "![Image SVM ](https://machinelearningcoban.com/assets/19_svm/svm5.png \"Text to show on mouseover\")"
      ]
    },
    {
      "cell_type": "markdown",
      "metadata": {
        "id": "Tk3oF_uytkSA"
      },
      "source": [
        "Chúng ta có 1 đường thẳng để tách biệt giữa 2 lớp **xanh** và **đỏ** và bài toán SVM là làm sao để tìm được cái *margin* lớn nhất có thể để làm tách biệt 2 lớp này ra. "
      ]
    },
    {
      "cell_type": "markdown",
      "metadata": {
        "id": "hXUJ14JLuVs0"
      },
      "source": [
        "#### Nonlinear SVM Classification \n",
        "\n",
        "Mặc dù Linear SVM classificaiton sử dụng rất hiệu quả và làm việc rất tốt với trong nhiều trường hợp dataset. Nhưng sẽ có những trường hợp dữ liệu sẽ không là **linearly**. Và với nhũng trường hợp dữ liệu này chúng ta sẽ sử dụng các  hướng tiếp cận sau : \n",
        "1. Polynomial Features\n",
        "2. Polynomial Kernel\n",
        "3. Similarity Features\n",
        "4. Gaussian RBF Kernel\n"
      ]
    },
    {
      "cell_type": "markdown",
      "metadata": {
        "id": "hyBzoJq7xBPx"
      },
      "source": [
        "##### Polynomial Featues \n"
      ]
    },
    {
      "cell_type": "markdown",
      "metadata": {
        "id": "7PcZDSEOF_f2"
      },
      "source": [
        "**Polynomial Features** được hiểu như là mình sẽ ví dụ tập dữ liệu của mình đang là bậc 1, mình sẽ cho nó lên bậc 2,3 và mình sẽ sử dụng được linear cho trường hợp đó.  như hình ở dưới sẽ mô tả rõ ràng hơn.\n"
      ]
    },
    {
      "cell_type": "markdown",
      "metadata": {
        "id": "DUzshq3wGvo_"
      },
      "source": [
        "![Image SVM ](https://img2018.cnblogs.com/blog/1012590/201903/1012590-20190331181001911-2004060929.png \"Text to show on mouseover\")"
      ]
    },
    {
      "cell_type": "code",
      "metadata": {
        "id": "FpIJuVj4yNkt",
        "colab": {
          "base_uri": "https://localhost:8080/",
          "height": 205
        },
        "outputId": "a1898894-e0df-44ea-afda-d255ee16e81b"
      },
      "source": [
        "# This site error huhu \n",
        "from sklearn.preprocessing import PolynomialFeatures\n",
        "from sklearn.pipeline import Pipeline\n",
        "from sklearn.svm import LinearSVC\n",
        "polynomial_features_svm_clf_ = Pipeline([\n",
        "          (\"poly_features\",PolynomialFeatures(degree=2)),\n",
        "        \n",
        "          (\"svm_clf\",LinearSVC(C=10,loss=\"hinge\"))\n",
        "  ])\n",
        "model_polynomial_features_svm_clf = polynomial_features_svm_clf.fit(X,y)\n"
      ],
      "execution_count": 9,
      "outputs": [
        {
          "output_type": "error",
          "ename": "NameError",
          "evalue": "ignored",
          "traceback": [
            "\u001b[0;31m---------------------------------------------------------------------------\u001b[0m",
            "\u001b[0;31mNameError\u001b[0m                                 Traceback (most recent call last)",
            "\u001b[0;32m<ipython-input-9-694196ff0b6d>\u001b[0m in \u001b[0;36m<module>\u001b[0;34m()\u001b[0m\n\u001b[1;32m      8\u001b[0m           \u001b[0;34m(\u001b[0m\u001b[0;34m\"svm_clf\"\u001b[0m\u001b[0;34m,\u001b[0m\u001b[0mLinearSVC\u001b[0m\u001b[0;34m(\u001b[0m\u001b[0mC\u001b[0m\u001b[0;34m=\u001b[0m\u001b[0;36m10\u001b[0m\u001b[0;34m,\u001b[0m\u001b[0mloss\u001b[0m\u001b[0;34m=\u001b[0m\u001b[0;34m\"hinge\"\u001b[0m\u001b[0;34m)\u001b[0m\u001b[0;34m)\u001b[0m\u001b[0;34m\u001b[0m\u001b[0;34m\u001b[0m\u001b[0m\n\u001b[1;32m      9\u001b[0m   ])\n\u001b[0;32m---> 10\u001b[0;31m \u001b[0mmodel_polynomial_features_svm_clf\u001b[0m \u001b[0;34m=\u001b[0m \u001b[0mpolynomial_features_svm_clf\u001b[0m\u001b[0;34m.\u001b[0m\u001b[0mfit\u001b[0m\u001b[0;34m(\u001b[0m\u001b[0mX\u001b[0m\u001b[0;34m,\u001b[0m\u001b[0my\u001b[0m\u001b[0;34m)\u001b[0m\u001b[0;34m\u001b[0m\u001b[0;34m\u001b[0m\u001b[0m\n\u001b[0m",
            "\u001b[0;31mNameError\u001b[0m: name 'polynomial_features_svm_clf' is not defined"
          ]
        }
      ]
    },
    {
      "cell_type": "markdown",
      "metadata": {
        "id": "ZBar-HDgx-xB"
      },
      "source": [
        "##### Polynomial Kernel\n",
        "\n",
        "Thêm vào **polynomial features** là chỉ đơn giản và làm việc rất tốt với các thuật toán ML algorithms. phương pháp trên không thể xử lý các bộ dữ liệu rất phức tạp và với mức độ đa thức cao, nó tạo ra một số lượng lớn các features, làm cho model quá chậm.\n",
        "\n",
        "Từ đó Polynomial Kernel ra đời , nó chỉ đơn giản là sử dụng 1 kỹ thuật là **kernel**. Nói đơn giản là giúp bạn có thể nhận được kết quả giống như khi cái kết quả ở **polynomial features** ngay cả các đat thức bậc cao, vì vậy sẽ không có sự thêm về mặt features ở đây nữa. "
      ]
    },
    {
      "cell_type": "code",
      "metadata": {
        "id": "PyWKE1u_15mC",
        "colab": {
          "base_uri": "https://localhost:8080/"
        },
        "outputId": "b180d460-6f08-4ddc-d73d-09d23e44cf4e"
      },
      "source": [
        "from sklearn.svm import SVC\n",
        "# This for data norm\n",
        "polynomial_kernel_svm_clf_norm = SVC(kernel=\"poly\")\n",
        "polynomial_kernel_svm_clf_norm.fit(X_norm_train,y_train)\n",
        "\n"
      ],
      "execution_count": 10,
      "outputs": [
        {
          "output_type": "execute_result",
          "data": {
            "text/plain": [
              "SVC(C=1.0, break_ties=False, cache_size=200, class_weight=None, coef0=0.0,\n",
              "    decision_function_shape='ovr', degree=3, gamma='scale', kernel='poly',\n",
              "    max_iter=-1, probability=False, random_state=None, shrinking=True,\n",
              "    tol=0.001, verbose=False)"
            ]
          },
          "metadata": {},
          "execution_count": 10
        }
      ]
    },
    {
      "cell_type": "code",
      "metadata": {
        "id": "VsqLDw_8FWeA",
        "colab": {
          "base_uri": "https://localhost:8080/"
        },
        "outputId": "315e6c5c-6dcc-4143-c719-eab4ff725c3b"
      },
      "source": [
        "# This for data stand\n",
        "polynomial_kernel_svm_clf_stand = SVC(kernel=\"poly\")\n",
        "polynomial_kernel_svm_clf_stand.fit(X_stand_train,y_train)\n",
        "\n"
      ],
      "execution_count": 11,
      "outputs": [
        {
          "output_type": "execute_result",
          "data": {
            "text/plain": [
              "SVC(C=1.0, break_ties=False, cache_size=200, class_weight=None, coef0=0.0,\n",
              "    decision_function_shape='ovr', degree=3, gamma='scale', kernel='poly',\n",
              "    max_iter=-1, probability=False, random_state=None, shrinking=True,\n",
              "    tol=0.001, verbose=False)"
            ]
          },
          "metadata": {},
          "execution_count": 11
        }
      ]
    },
    {
      "cell_type": "markdown",
      "metadata": {
        "id": "MWuvqtoNyFr5"
      },
      "source": [
        "##### Similarity Featues \n",
        "Một kỹ thuật khác sử dụng để khi có **nonlinear problems** là thêm 1 **features** bằng 1 function có tên là **similarity function** có tên thường sử dụng nhất là **Gausian RBF Kernel** giải thích sẽ rõ khi được nhìn ở hình phía dưới. "
      ]
    },
    {
      "cell_type": "markdown",
      "metadata": {
        "id": "ef3GESgH67T6"
      },
      "source": [
        "![Image SVM ](https://img2018.cnblogs.com/blog/1012590/201903/1012590-20190331214259024-184633268.png \"Text to show on mouseover\")"
      ]
    },
    {
      "cell_type": "markdown",
      "metadata": {
        "id": "uftG3muOyIOe"
      },
      "source": [
        "###### Gausian RBF Kernel "
      ]
    },
    {
      "cell_type": "markdown",
      "metadata": {
        "id": "Rrd2BYg7yLTv"
      },
      "source": [
        "Công thức cửa **RBF Kernel** là:\n",
        "  $$ϕ_γ(x, ℓ) =exp (−γ∥x − ℓ∥^2)$$"
      ]
    },
    {
      "cell_type": "code",
      "metadata": {
        "id": "Hr7PmAlH65xZ",
        "colab": {
          "base_uri": "https://localhost:8080/"
        },
        "outputId": "30b41761-d625-4b2a-e181-abee0ebafcc3"
      },
      "source": [
        "# This for data norm \n",
        "rbf_kernel_svm_clf_norm = SVC(kernel=\"rbf\")               \n",
        "rbf_kernel_svm_clf_norm.fit(X_norm_train,y_train)"
      ],
      "execution_count": 12,
      "outputs": [
        {
          "output_type": "execute_result",
          "data": {
            "text/plain": [
              "SVC(C=1.0, break_ties=False, cache_size=200, class_weight=None, coef0=0.0,\n",
              "    decision_function_shape='ovr', degree=3, gamma='scale', kernel='rbf',\n",
              "    max_iter=-1, probability=False, random_state=None, shrinking=True,\n",
              "    tol=0.001, verbose=False)"
            ]
          },
          "metadata": {},
          "execution_count": 12
        }
      ]
    },
    {
      "cell_type": "code",
      "metadata": {
        "id": "F5mFWmZIGhAM"
      },
      "source": [
        "rbf_kernel_svm_clf_stand = SVC(kernel=\"rbf\")\n",
        "rbf_kernel_svm_clf_stand.fit(X_stand_train,y_train)"
      ],
      "execution_count": null,
      "outputs": []
    },
    {
      "cell_type": "markdown",
      "metadata": {
        "id": "0m4KQ1ML7aIm"
      },
      "source": [
        "### RandomForest \n",
        "Trước hết để hiểu được random forest thì chúng ta sẽ đi tìm hiểu về 1 kỹ thuật có tên gọi là **Bagging** và **Pasting**"
      ]
    },
    {
      "cell_type": "markdown",
      "metadata": {
        "id": "pPzNY4XN9383"
      },
      "source": [
        "#### Bagging vs Pasting \n",
        "**Bagging** và **Pasting** đều là 1 kỹ thuật để tạo ra nhiều loại tập huấn liệu con.\n",
        "**Bagging**, viết tắt của (**bootstrap aggregating**) tạo ra một tập dữ liệu bằng cách lấy mẫu tập huấn luyện với sự thay thế. **Pasting** tạo tập dữ liệu bằng cách lấy mẫu tập huấn luyện mà không cần thay thế."
      ]
    },
    {
      "cell_type": "markdown",
      "metadata": {
        "id": "C3MPgU-GGxJH"
      },
      "source": [
        "### Random Forest \n",
        "**Random Forest** là tâp hợp của các **Decision Tree** được huấn luyện bởi các tập dữ liệu tạo ra  bằng phương pháp **Bagging vs Pasting** "
      ]
    },
    {
      "cell_type": "markdown",
      "metadata": {
        "id": "qkxVKPLS97Hs"
      },
      "source": [
        "#### Implementaion Random Forest with Scikit-Learn"
      ]
    },
    {
      "cell_type": "code",
      "metadata": {
        "id": "6RdiU4ewJyeZ"
      },
      "source": [
        "# This for data norm\n",
        "from sklearn.ensemble import RandomForestClassifier\n",
        "rnd_clf_norm = RandomForestClassifier()\n",
        "rnd_clf_norm.fit(X_norm_train, y_train)\n"
      ],
      "execution_count": null,
      "outputs": []
    },
    {
      "cell_type": "code",
      "metadata": {
        "id": "FaLwzcpRKzqx"
      },
      "source": [
        "# This for data stand\n",
        "from sklearn.ensemble import RandomForestClassifier\n",
        "rnd_clf_stand = RandomForestClassifier()\n",
        "rnd_clf_stand.fit(X_stand_train, y_train)\n"
      ],
      "execution_count": null,
      "outputs": []
    },
    {
      "cell_type": "markdown",
      "metadata": {
        "id": "MBRU0-heRRi-"
      },
      "source": [
        "## Evaluation Model\n",
        "Trong phần này chúng ta sẽ đánh giá những model mà chúng ta đã làm ở trên và sử dụng 1 vài những công cụ  để đánh giá model classification theo nhiều cách khác nhau\n",
        "\n",
        "1. Cross-Validation\n",
        "2. Confusion Matrix\n",
        "3. Precision and Recall\n",
        "4. F-1 Score \n",
        "5. ROC Curve\n",
        "\n",
        "\n"
      ]
    },
    {
      "cell_type": "markdown",
      "metadata": {
        "id": "7D2JjTGrRf-x"
      },
      "source": [
        "### Summary Model Trained Above\n"
      ]
    },
    {
      "cell_type": "markdown",
      "metadata": {
        "id": "RCBngAtmSVAt"
      },
      "source": [
        "### Cross-Validation \n",
        "\n",
        "Cross-Validation là dữ liệu train sẽ chia ra làm **K-fold** ngẫu nhiên nhằm cho model có tính ngẫu nhiên khi train 1 tập dữ liệu, xong rồi dự đoán và đánh giá chúng theo từng K-fold sử dụng model.\n",
        "\n",
        "Trong Scitlearn thì nó có tên gọi là khác là `cross_val_score()`"
      ]
    },
    {
      "cell_type": "code",
      "metadata": {
        "id": "pSGj27ZpdzEr"
      },
      "source": [
        "from sklearn.model_selection import cross_val_score"
      ],
      "execution_count": 6,
      "outputs": []
    },
    {
      "cell_type": "code",
      "metadata": {
        "id": "4yMecRN5czFo"
      },
      "source": [
        "def average_val_score(model_stand,model_norm,X_norm_train,X_norm_test,X_stand_train,X_stand_test,y_train,y_test):\n",
        "  val_score_train_stand = sum(cross_val_score(model_stand,X_stand_train,y_train,cv=3,scoring=\"accuracy\"))/3;\n",
        "\n",
        "  val_score_test_stand = sum(cross_val_score(model_stand,X_stand_test,y_test,cv=3,scoring=\"accuracy\"))/3;\n",
        "\n",
        "  val_score_train_norm = sum(cross_val_score(model_norm,X_norm_train,y_train,cv=3,scoring=\"accuracy\"))/3;\n",
        "\n",
        "  val_score_test_norm = sum(cross_val_score(model_norm,X_norm_test,y_test,cv=3,scoring=\"accuracy\"))/3\n",
        "  print(f\"This is train_stand accuracy {val_score_train_stand}\")\n",
        "  print(f\"This is test_stand accuracy {val_score_test_stand}\")\n",
        "  print(f\"This is train_norm accuracy {val_score_train_norm}\")\n",
        "  print(f\"This is test_norm accuracy {val_score_test_norm}\") "
      ],
      "execution_count": null,
      "outputs": []
    },
    {
      "cell_type": "code",
      "metadata": {
        "id": "bo-OjSLHilD0"
      },
      "source": [
        "average_val_score(polynomial_kernel_svm_clf_norm,polynomial_kernel_svm_clf_stand,X_norm_train, X_norm_test,X_stand_train,X_stand_test,y_train,y_test)"
      ],
      "execution_count": null,
      "outputs": []
    },
    {
      "cell_type": "code",
      "metadata": {
        "id": "2rVaOWrSd1gx"
      },
      "source": [
        "average_val_score(rbf_kernel_svm_clf_norm,rbf_kernel_svm_clf_stand,X_norm_train, X_norm_test,X_stand_train,X_stand_test,y_train,y_test)"
      ],
      "execution_count": null,
      "outputs": []
    },
    {
      "cell_type": "code",
      "metadata": {
        "id": "ZTNytDzWeXWL"
      },
      "source": [
        "average_val_score(rnd_clf_norm,rnd_clf_stand,X_norm_train, X_norm_test,X_stand_train,X_stand_test,y_train,y_test)"
      ],
      "execution_count": null,
      "outputs": []
    },
    {
      "cell_type": "code",
      "metadata": {
        "id": "YZa3FkihZwdY"
      },
      "source": [
        "from sklearn.model_selection import cross_val_score\n",
        "#this polynomial_kernel_svm_clf_norm for Testing data \n",
        "cross_val_score(polynomial_kernel_svm_clf_norm,X_norm_test,y_test,cv=3,scoring=\"accuracy\")"
      ],
      "execution_count": null,
      "outputs": []
    },
    {
      "cell_type": "code",
      "metadata": {
        "id": "z6BzvlTPZoog"
      },
      "source": [
        "from sklearn.model_selection import cross_val_score\n",
        "#this polynomial_kernel_svm_clf_norm for Testing data \n",
        "cross_val_score(polynomial_kernel_svm_clf_norm,X_norm_train,y_train,cv=3,scoring=\"accuracy\")"
      ],
      "execution_count": null,
      "outputs": []
    },
    {
      "cell_type": "code",
      "metadata": {
        "id": "6uuRFwokWjZO"
      },
      "source": [
        "from sklearn.model_selection import cross_val_score\n",
        "#this rbf_kernel_svm_clf_norm for training data \n",
        "cross_val_score(rbf_kernel_svm_clf_norm,X_norm_test,y_test,cv=3,scoring=\"accuracy\")"
      ],
      "execution_count": null,
      "outputs": []
    },
    {
      "cell_type": "code",
      "metadata": {
        "id": "uv-uongRWKaD"
      },
      "source": [
        "from sklearn.model_selection import cross_val_score\n",
        "#this rbf_kernel_svm_clf_norm for training data \n",
        "cross_val_score(rbf_kernel_svm_clf_norm,X_norm_train,y_train,cv=3,scoring=\"accuracy\")"
      ],
      "execution_count": null,
      "outputs": []
    },
    {
      "cell_type": "code",
      "metadata": {
        "colab": {
          "base_uri": "https://localhost:8080/"
        },
        "id": "6GVcfhh4Pmvw",
        "outputId": "a5755678-44cd-4eae-cd2c-f945d7ec677e"
      },
      "source": [
        "from sklearn.model_selection import cross_val_score\n",
        "#this rbf_kernel_svm_clf_stand for training data \n",
        "cross_val_score(rbf_kernel_svm_clf_stand,X_stand_train,y_train,cv=3,scoring=\"accuracy\")"
      ],
      "execution_count": 22,
      "outputs": [
        {
          "output_type": "execute_result",
          "data": {
            "text/plain": [
              "array([0.96035785, 0.96292923, 0.95987357])"
            ]
          },
          "metadata": {},
          "execution_count": 22
        }
      ]
    },
    {
      "cell_type": "code",
      "metadata": {
        "colab": {
          "base_uri": "https://localhost:8080/"
        },
        "id": "4ae0ICkbNrGq",
        "outputId": "afaa9b83-f8be-4abd-a8dd-50bb71fe7912"
      },
      "source": [
        "from sklearn.model_selection import cross_val_score\n",
        "#this rbf_kernel_svm_clf_stand for testing data \n",
        "cross_val_score(rbf_kernel_svm_clf_stand,X_stand_test,y_test,cv=3,scoring=\"accuracy\")"
      ],
      "execution_count": 23,
      "outputs": [
        {
          "output_type": "execute_result",
          "data": {
            "text/plain": [
              "array([0.93936147, 0.93379044, 0.94170596])"
            ]
          },
          "metadata": {},
          "execution_count": 23
        }
      ]
    },
    {
      "cell_type": "code",
      "metadata": {
        "id": "QYtHIPTxZSPW"
      },
      "source": [
        "#this random forest for  training data and random forest stand\n",
        "cross_val_score(rnd_clf_stand,X_stand_train,y_train,cv=3,scoring=\"accuracy\")"
      ],
      "execution_count": null,
      "outputs": []
    },
    {
      "cell_type": "code",
      "metadata": {
        "colab": {
          "base_uri": "https://localhost:8080/"
        },
        "id": "HIsZw1iwOg8Q",
        "outputId": "5b6a2cec-6066-4829-fc79-928fd778417a"
      },
      "source": [
        "#this random forest for test data and random forest stand\n",
        "cross_val_score(rnd_clf_stand,X_stand_test,y_test,cv=3,scoring=\"accuracy\")"
      ],
      "execution_count": 18,
      "outputs": [
        {
          "output_type": "execute_result",
          "data": {
            "text/plain": [
              "array([0.94600386, 0.94428969, 0.94727818])"
            ]
          },
          "metadata": {},
          "execution_count": 18
        }
      ]
    },
    {
      "cell_type": "code",
      "metadata": {
        "colab": {
          "base_uri": "https://localhost:8080/"
        },
        "id": "q8xxJQf_OKAW",
        "outputId": "15ed85fb-e4f3-4a79-bbd2-405b5e668327"
      },
      "source": [
        "from sklearn.model_selection import cross_val_score\n",
        "# This random forest for training data and random frest norrm\n",
        "cross_val_score(rnd_clf_norm,X_norm_train,y_train,cv=3,scoring=\"accuracy\")"
      ],
      "execution_count": 21,
      "outputs": [
        {
          "output_type": "execute_result",
          "data": {
            "text/plain": [
              "array([0.96491134, 0.96689345, 0.96507018])"
            ]
          },
          "metadata": {},
          "execution_count": 21
        }
      ]
    },
    {
      "cell_type": "code",
      "metadata": {
        "colab": {
          "base_uri": "https://localhost:8080/"
        },
        "id": "r3FN1zJWPHkt",
        "outputId": "c7bf83c4-47c9-4843-f83c-aa06014f139e"
      },
      "source": [
        "from sklearn.model_selection import cross_val_score\n",
        "# This random forest for test data and random forest norrm\n",
        "cross_val_score(rnd_clf_norm,X_norm_test,y_test,cv=3,scoring=\"accuracy\")"
      ],
      "execution_count": 20,
      "outputs": [
        {
          "output_type": "execute_result",
          "data": {
            "text/plain": [
              "array([0.94536105, 0.94600386, 0.94599228])"
            ]
          },
          "metadata": {},
          "execution_count": 20
        }
      ]
    },
    {
      "cell_type": "markdown",
      "metadata": {
        "id": "W0k-mJuzSYfM"
      },
      "source": [
        "### Confusion Matrix\n",
        "1 cách khác để nhìn vào **performance** của 1 classifier là nhìn vàon **confusion matrix**. Ý tưởng của cái bảng này là đếm số lần của trường hợp là ở lớp A nhưng model lại phân loại thành lớp B.\n",
        "\n",
        "Ví dụ để biết xem xem bao nhiêu lần model phân loại sai(confused) hình ảnh là 5 với 3 thì chúng ta sẽ nhìn vào hàng 5 cột 3 ở **confusion matrix**"
      ]
    },
    {
      "cell_type": "markdown",
      "metadata": {
        "id": "fgVhHaQUT7WF"
      },
      "source": [
        "![Image SVM ](https://ongxuanhong.files.wordpress.com/2015/08/confusion-matrix2.png \"Text to show on mouseover\")"
      ]
    },
    {
      "cell_type": "markdown",
      "metadata": {
        "id": "GgWo5FLkSbCj"
      },
      "source": [
        "### Precision and Recall "
      ]
    },
    {
      "cell_type": "markdown",
      "metadata": {
        "id": "RqD8_MmeSdrL"
      },
      "source": [
        "### F-1 Score"
      ]
    },
    {
      "cell_type": "markdown",
      "metadata": {
        "id": "RsWCQJ9mjLgD"
      },
      "source": [
        "### ROC Curve "
      ]
    },
    {
      "cell_type": "markdown",
      "metadata": {
        "id": "fhvVd-4WjNyG"
      },
      "source": [
        "## Find-Tunning Model using Gird Search \n",
        "\n"
      ]
    },
    {
      "cell_type": "markdown",
      "metadata": {
        "id": "WI6SwrUWBZHy"
      },
      "source": [
        "### Gird Search \n",
        "\n",
        "Như các bạn đã thấy ở trên việc tìm ra những **best_hyparameter** rất là khó và khó để tìm ra được đôi lúc 1 vài model có rất nhiều hyparameter vậy để tìm tổ hợp của chúng là hết sức khó khăn. Vì thế Gird Search sinh ra là để chạy cái tổ hợp đó cho bạn. \n",
        "\n",
        "Trong Scikit-Learn thì nó được gọi là **GridSearchCV**"
      ]
    },
    {
      "cell_type": "markdown",
      "metadata": {
        "id": "usFUob9sBdJ2"
      },
      "source": [
        "## Using ANN Architecture "
      ]
    },
    {
      "cell_type": "markdown",
      "metadata": {
        "id": "c8z6LDULBhft"
      },
      "source": [
        "## Sumarry "
      ]
    },
    {
      "cell_type": "code",
      "metadata": {
        "id": "beeWeP3FCarO"
      },
      "source": [
        ""
      ],
      "execution_count": null,
      "outputs": []
    }
  ]
}