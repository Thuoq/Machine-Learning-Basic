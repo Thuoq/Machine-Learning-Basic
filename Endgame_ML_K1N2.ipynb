{
  "nbformat": 4,
  "nbformat_minor": 0,
  "metadata": {
    "colab": {
      "name": "Endgame ML K1N2.ipynb",
      "provenance": [],
      "collapsed_sections": [],
      "authorship_tag": "ABX9TyO5vEV9H5ZWIfvj4rbZUovS",
      "include_colab_link": true
    },
    "kernelspec": {
      "name": "python3",
      "display_name": "Python 3"
    },
    "language_info": {
      "name": "python"
    }
  },
  "cells": [
    {
      "cell_type": "markdown",
      "metadata": {
        "id": "view-in-github",
        "colab_type": "text"
      },
      "source": [
        "<a href=\"https://colab.research.google.com/github/Thuoq/Machine-Learning-Basic/blob/main/Endgame_ML_K1N2.ipynb\" target=\"_parent\"><img src=\"https://colab.research.google.com/assets/colab-badge.svg\" alt=\"Open In Colab\"/></a>"
      ]
    },
    {
      "cell_type": "markdown",
      "metadata": {
        "id": "KKCnQ0D9e7UQ"
      },
      "source": [
        "# Machine Learning Project Final K1_N2 Teacher: Tu Anh\n",
        " \n",
        "* Classification mnist \n",
        "\n",
        "**Created**: Lê Văn Thương, Lê Văn Kiên, Nguyễn Trung Phong, Nguyễn Thị Thu Hường."
      ]
    },
    {
      "cell_type": "code",
      "metadata": {
        "id": "xcpjks78R5lj"
      },
      "source": [
        "#import libaries\n",
        "import tensorflow as tf\n",
        "import numpy as np\n",
        "import pandas as pd\n",
        "import matplotlib.pyplot as plt \n",
        "import tensorflow_datasets as tfds"
      ],
      "execution_count": 2,
      "outputs": []
    },
    {
      "cell_type": "markdown",
      "metadata": {
        "id": "8DIkJT2QawMy"
      },
      "source": [
        "## Fetching dataset from Sklearn"
      ]
    },
    {
      "cell_type": "code",
      "metadata": {
        "colab": {
          "base_uri": "https://localhost:8080/"
        },
        "id": "2Tjgv01DW2-h",
        "outputId": "8a58993f-6277-41cc-e1a8-d9fe37e70112"
      },
      "source": [
        "# Fetching dataset\n",
        "from sklearn.datasets import fetch_openml\n",
        "mnist = fetch_openml('mnist_784',version=1)\n",
        "mnist.keys()"
      ],
      "execution_count": 5,
      "outputs": [
        {
          "output_type": "execute_result",
          "data": {
            "text/plain": [
              "dict_keys(['data', 'target', 'frame', 'feature_names', 'target_names', 'DESCR', 'details', 'categories', 'url'])"
            ]
          },
          "metadata": {},
          "execution_count": 5
        }
      ]
    },
    {
      "cell_type": "code",
      "metadata": {
        "colab": {
          "base_uri": "https://localhost:8080/"
        },
        "id": "B5rdcpKGXpU2",
        "outputId": "6b9d80f5-6f80-4fe4-cfff-9be88db81c81"
      },
      "source": [
        "X,y = mnist['data'],mnist['target'] # X for features, y for labels\n",
        "X.shape,y.shape"
      ],
      "execution_count": 6,
      "outputs": [
        {
          "output_type": "execute_result",
          "data": {
            "text/plain": [
              "((70000, 784), (70000,))"
            ]
          },
          "metadata": {},
          "execution_count": 6
        }
      ]
    },
    {
      "cell_type": "code",
      "metadata": {
        "colab": {
          "base_uri": "https://localhost:8080/"
        },
        "id": "RhGeHQqtaBUV",
        "outputId": "a77711db-3feb-4c34-e949-beb57677d5cc"
      },
      "source": [
        "X[0].shape"
      ],
      "execution_count": 7,
      "outputs": [
        {
          "output_type": "execute_result",
          "data": {
            "text/plain": [
              "(784,)"
            ]
          },
          "metadata": {},
          "execution_count": 7
        }
      ]
    },
    {
      "cell_type": "markdown",
      "metadata": {
        "id": "gof74SiwXyyG"
      },
      "source": [
        "**NOTE**: Một chút khác biệt fetching data giữa **Tensorflow** và **Sklearn**:\n",
        "- shape đưa ra của **X** ở Sklearn là 784 features có nghĩa trải ngang ra còn ở tensorflow là (28,28("
      ]
    },
    {
      "cell_type": "markdown",
      "metadata": {
        "id": "G6DWUPHCa6_k"
      },
      "source": [
        "## Viz Dataset "
      ]
    },
    {
      "cell_type": "markdown",
      "metadata": {
        "id": "GI_Xm2deZX4G"
      },
      "source": [
        "Xây dựng 1 hàm có tên là `show_a_image()` để chỉ ra cái ảnh đầu vào của dữ liệu: "
      ]
    },
    {
      "cell_type": "code",
      "metadata": {
        "id": "lyg1ySWwZqOD"
      },
      "source": [
        "def show_a_image(some_digit):\n",
        "  \"\"\"\n",
        "  @param some_digit: (np.array) have shape (784)\n",
        "  \"\"\"\n",
        "  some_digit_image = some_digit.reshape((28,28))\n",
        "  plt.imshow(some_digit_image,cmap=\"binary\")\n",
        "  plt.axis(\"off\")\n",
        "  plt.show()\n"
      ],
      "execution_count": 9,
      "outputs": []
    },
    {
      "cell_type": "code",
      "metadata": {
        "colab": {
          "base_uri": "https://localhost:8080/",
          "height": 268
        },
        "id": "8f_PXnIybHbl",
        "outputId": "7119a2dd-ddd4-4260-855c-37c7cce15831"
      },
      "source": [
        "show_a_image(X[0]);\n",
        "y[0]"
      ],
      "execution_count": 11,
      "outputs": [
        {
          "output_type": "display_data",
          "data": {
            "image/png": "[encoded data removed]",
            "text/plain": [
              "<Figure size 432x288 with 1 Axes>"
            ]
          },
          "metadata": {
            "needs_background": "light"
          }
        },
        {
          "output_type": "execute_result",
          "data": {
            "application/vnd.google.colaboratory.intrinsic+json": {
              "type": "string"
            },
            "text/plain": [
              "'5'"
            ]
          },
          "metadata": {},
          "execution_count": 11
        }
      ]
    },
    {
      "cell_type": "markdown",
      "metadata": {
        "id": "Mybs5DAObKMf"
      },
      "source": [
        "Ở trên chúng ta đã thấy tại bức ảnh vị trí 0 và label ở vị trí 0 là 5. Nhưng có 1 điều ở đây rằng label đang là kiểu **string** hầu như các thuật toán của ML đều xử lý với số nên chúng ta sẽ convert label sang number "
      ]
    },
    {
      "cell_type": "code",
      "metadata": {
        "id": "Em289aAIbrNY"
      },
      "source": [
        "y  = y.astype(np.uint8)"
      ],
      "execution_count": 12,
      "outputs": []
    },
    {
      "cell_type": "markdown",
      "metadata": {
        "id": "zjHQ3TJHbvaX"
      },
      "source": [
        "Ở trên chúng ta chỉ mới Viz cho 1 hình ảnh đoạn code dưới đây sẽ làm show  **random 4 images**."
      ]
    },
    {
      "cell_type": "code",
      "metadata": {
        "id": "PE2O8zVTdL94"
      },
      "source": [
        "import random\n",
        "def show_4_images_rand():\n",
        "  \"\"\"\n",
        "  Show random 4 images\n",
        "  \"\"\"\n",
        "  plt.figure(figsize=(7,7))\n",
        "  for i in range(4):\n",
        "    ax = plt.subplot(2,2,i+1)\n",
        "    rand_idx = random.choice(range(len(X)))\n",
        "    plt.imshow(X[rand_idx].reshape((28,28)),cmap=\"binary\")\n",
        "    plt.title(y[rand_idx])\n",
        "    plt.axis(False)\n",
        "    "
      ],
      "execution_count": 14,
      "outputs": []
    },
    {
      "cell_type": "code",
      "metadata": {
        "colab": {
          "base_uri": "https://localhost:8080/",
          "height": 427
        },
        "id": "2gGCmJ3RejEZ",
        "outputId": "ab6bf919-30f7-4c3d-a1d3-13004829f3e2"
      },
      "source": [
        "show_4_images_rand()"
      ],
      "execution_count": 15,
      "outputs": [
        {
          "output_type": "display_data",
          "data": {
            "image/png": "[encoded data removed]",
            "text/plain": [
              "<Figure size 504x504 with 4 Axes>"
            ]
          },
          "metadata": {
            "needs_background": "light"
          }
        }
      ]
    },
    {
      "cell_type": "code",
      "metadata": {
        "id": "9eiVlvVNel9t"
      },
      "source": [
        ""
      ],
      "execution_count": null,
      "outputs": []
    }
  ]
}